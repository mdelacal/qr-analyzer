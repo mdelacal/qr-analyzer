{
 "cells": [
  {
   "cell_type": "markdown",
   "id": "f4f424d4-8f83-4e9c-a98d-3b0c206d6afa",
   "metadata": {},
   "source": [
    "### QR Analyzer\n",
    "Developed by: Miguel de la Cal Bravo & Félix Paniagua Mérida"
   ]
  },
  {
   "cell_type": "markdown",
   "id": "1e962a0d-fde1-4cbd-aa7d-451c881186b1",
   "metadata": {},
   "source": [
    "#### Install and import dependencies\n",
    "You will need to install the following packages to use this tool:"
   ]
  },
  {
   "cell_type": "code",
   "execution_count": null,
   "id": "ac5526c7",
   "metadata": {},
   "outputs": [],
   "source": [
    "#!pip install opencv-python nest-asyncio pyfiglet vt-py scikit-learn nltk"
   ]
  },
  {
   "cell_type": "code",
   "execution_count": null,
   "id": "889e74e2",
   "metadata": {},
   "outputs": [],
   "source": [
    "from pyfiglet import Figlet\n",
    "import cv2\n",
    "import vt\n",
    "import nest_asyncio\n",
    "nest_asyncio.apply()\n",
    "import os\n",
    "import pickle\n",
    "from sklearn.feature_extraction.text import CountVectorizer\n",
    "from nltk.tokenize import RegexpTokenizer\n",
    "from nltk.stem.snowball import SnowballStemmer\n",
    "import re\n",
    "import logging\n",
    "logging.getLogger(\"sklearn.utils.testing\").setLevel(logging.WARNING)\n",
    "import warnings  \n",
    "warnings.filterwarnings('ignore')"
   ]
  },
  {
   "cell_type": "markdown",
   "id": "d45e99b6-ff60-4dba-a4f2-0424760fb38b",
   "metadata": {},
   "source": [
    "#### Analysis with VirusTotal API\n",
    "This function is used to analyze a URL detected from a QR code with VirusTotal API.\n",
    "\n",
    "The URL will be reported as malware if three or more engines detect it as malicious or suspicious.\n",
    "\n",
    "You can define your own functions to analyze a URL with different tools.\n",
    "\n",
    "_NOTE: To use this feature you will need Internet connection and set your $VT_API environment variable to your API Key._\n",
    "\n",
    "If the analysis reports that 3 or more antivirus engines have detected that the website as _malicious_ or _suspicious_, then a _\"[!!] PHISING/MALWARE\"_ message will be printed on screen in red. Otherwise, the website will be assumed to be safe and a _\"[OK] LEGITIMATE\"_ message will be displayed in green."
   ]
  },
  {
   "cell_type": "code",
   "execution_count": null,
   "id": "f179128e",
   "metadata": {},
   "outputs": [],
   "source": [
    "def analyze_vt(data, analyzed_urls):\n",
    "    \n",
    "    # Set API Key from $VT_API env variable\n",
    "    client = vt.Client(os.environ.get(\"VT_API\"))\n",
    "    \n",
    "    # Analyze QR Code URL\n",
    "    url_id = vt.url_id(str(data))\n",
    "    url = client.get_object(\"/urls/{}\", url_id)\n",
    "    \n",
    "    # If reported by < 3 analyzers as malicious and suspicious ~> LEGITIMATE\n",
    "    if url.last_analysis_stats['malicious'] < 3 and url.last_analysis_stats['suspicious'] < 3:\n",
    "        print(\"[OK] Website is LEGITIMATE\\n\")\n",
    "        analyzed_urls[data] = \"false\"\n",
    "        cv2.putText(img, \"[OK] LEGITIMATE\", (int(bbox[0][0][0]), int(bbox[0][0][1]) - 60), cv2.FONT_HERSHEY_DUPLEX,\n",
    "                1, (0, 255, 0), 2)\n",
    "    # If reported by >= 3 analyzers as malicious or suspicious ~> MALWARE  \n",
    "    else:\n",
    "        print(\"[!!] Website is PHISING or contains MALWARE\\n\")\n",
    "        analyzed_urls[data] = \"true\"\n",
    "        cv2.putText(img, \"[!!] PHISING/MALWARE\", (int(bbox[0][0][0]), int(bbox[0][0][1]) - 60), cv2.FONT_HERSHEY_DUPLEX,\n",
    "                1, (0, 0, 255), 2)"
   ]
  },
  {
   "cell_type": "markdown",
   "id": "f2fcd211-3b23-493d-b152-f4fcaa1e067e",
   "metadata": {},
   "source": [
    "#### Analysis with Machine Learning models\n",
    "In this function we will use Logistic Regression to analyze a URL detected from a QR code.\n",
    "\n",
    "The models have been trained previously and will be loaded as PKL files. You can find the training scripts in: https://github.com/filip7575/morteruelo\n",
    "\n",
    "_NOTE: To use this feature you do not need Internet connection._"
   ]
  },
  {
   "cell_type": "code",
   "execution_count": null,
   "id": "913238a7-0876-4302-92f0-8b143dedec2d",
   "metadata": {},
   "outputs": [],
   "source": [
    "# Analyze with ML (Logistic Regression)\n",
    "def analyze_ml_lr(data, analyzed_urls):\n",
    "    \n",
    "    qr_url=[str(re.sub(r\"^https?://\", \"\", data))]\n",
    "    pkl_file = \"Pickle_type_Model_LM.pkl\"\n",
    "    loaded_mo = pickle.load(open(pkl_file, 'rb'))\n",
    "    results = loaded_mo.predict(qr_url)\n",
    "\n",
    "    # If URL is detected as 'good' ~> LEGITIMATE\n",
    "    if results[0] == 'good':\n",
    "        print(\"[OK] Website is LEGITIMATE\\n\")\n",
    "        analyzed_urls[data] = \"false\"\n",
    "        cv2.putText(img, \"[OK] LEGITIMATE\", (int(bbox[0][0][0]), int(bbox[0][0][1]) - 60), cv2.FONT_HERSHEY_DUPLEX,\n",
    "                1, (0, 255, 0), 2)\n",
    "    # URL detected as 'bad' ~> MALWARE\n",
    "    else:\n",
    "        print(\"[!!] Website is PHISING or contains MALWARE\\n\")\n",
    "        analyzed_urls[data] = \"true\"\n",
    "        cv2.putText(img, \"[!!] PHISING/MALWARE\", (int(bbox[0][0][0]), int(bbox[0][0][1]) - 60), cv2.FONT_HERSHEY_DUPLEX,\n",
    "                1, (0, 0, 255), 2)"
   ]
  },
  {
   "cell_type": "markdown",
   "id": "a3ee4536-891f-44ef-99e3-8afa4528bf67",
   "metadata": {},
   "source": [
    "#### Analyzing QR codes with your camera\n",
    "Once defined the functions that will analyze the URL detected from a QR code, we will configure the camera and functions needed to scan the QR code.\n",
    "\n",
    "After that, we will define a set of keys to enter and operate the program, when a QR code has been detected:`\n",
    "\n",
    "- <kbd>c</kbd> : Analyze with VirusTotal API\n",
    "- <kbd>l</kbd> : Analyze with ML (Logistic Regression)\n",
    "- <kbd>q</kbd> : Close the camera and exit the program\n",
    "\n",
    "When a URL is detected as legitimate a message will be printed on screen in green. Otherwise, the website will be assumed to be safe and a\n",
    "\n",
    "If you have more than one camera connected to your device, please check ***cap = cv2.VideoCapture(0)*** line and change ***0*** to other value to select your camera. Remember to use ```ls /dev``` command to check video capture devices connected to the machine."
   ]
  },
  {
   "cell_type": "code",
   "execution_count": null,
   "id": "88bfc9fa-7da9-4015-af12-f4533bbd86c6",
   "metadata": {},
   "outputs": [],
   "source": [
    "# Camera configurations, 750x563p, 30 FPS\n",
    "cap = cv2.VideoCapture(0)\n",
    "cap.set(cv2.CAP_PROP_FRAME_WIDTH, 750)\n",
    "cap.set(cv2.CAP_PROP_FRAME_HEIGHT, 563)\n",
    "cap.set(cv2.CAP_PROP_FPS, 30)"
   ]
  },
  {
   "cell_type": "code",
   "execution_count": null,
   "id": "11e25819-3731-464d-8cfe-d86005474ab9",
   "metadata": {},
   "outputs": [],
   "source": [
    "# QR code detection object\n",
    "detector = cv2.QRCodeDetector()\n",
    "\n",
    "# Variables\n",
    "data_aux = \"\"       # previous QR detected\n",
    "analyzed_urls = {}  # previous analyzed URLs\n",
    "f = Figlet(font='big')\n",
    "print(f.renderText('QR Analyzer'))\n",
    "\n",
    "while True:\n",
    "\n",
    "    # Get the image and bounding coords and data\n",
    "    _, img = cap.read()\n",
    "    data, bbox, _ = detector.detectAndDecode(img)\n",
    "\n",
    "    # If there is a bounding box, draw one, along with the data\n",
    "    if(bbox is not None):\n",
    "        for i in range(len(bbox)):\n",
    "            cv2.line(img, tuple(bbox[i][0].astype(int)), tuple((bbox[(i+1) % len(bbox)][0]).astype(int)), color=(255,\n",
    "                     0, 255), thickness=2)\n",
    "        cv2.putText(img, data, (int(bbox[0][0][0]), int(bbox[0][0][1]) - 10), cv2.FONT_HERSHEY_DUPLEX,\n",
    "                    1.25, (0, 242, 242), 2)\n",
    "              \n",
    "        # Check if a QR Code is detected\n",
    "        if data and data_aux != data and data not in analyzed_urls:\n",
    "            print()\n",
    "            print(\"[+] QR Code detected! \", data)\n",
    "            print(\"[+] Press `c` key to analyze website with VT API\\n\" +\n",
    "                  \"[+] Press `l` key to analyze website with ML (Logistic Regression)\")\n",
    "            data_aux = data\n",
    "\n",
    "        # Wait for key pressed\n",
    "        key_pressed = cv2.waitKey(1)\n",
    "\n",
    "        if key_pressed != -1:\n",
    "            \n",
    "            # Press `c` key\n",
    "            if key_pressed == 99:\n",
    "                try:\n",
    "                    print(f\"[+] Analyzing {data} with VT API\")\n",
    "                    analyze_vt(data, analyzed_urls)\n",
    "                except Exception as e:\n",
    "                    print(f\"[!] ERROR: Exception {type(e).__name__}\")\n",
    "                    continue\n",
    "                    \n",
    "            # Press `l` key\n",
    "            elif key_pressed == 108:\n",
    "                print(f\"[+] Analyzing {data} with ML (Logistic Regression)\")\n",
    "                analyze_ml_lr(data, analyzed_urls)\n",
    "                \n",
    "            # Press `q` key\n",
    "            elif key_pressed == 113:\n",
    "                print(\"[!] EXITTING...\")\n",
    "                break\n",
    "            \n",
    "        # If website was analyzed, print previous result\n",
    "        if data in analyzed_urls:\n",
    "            if analyzed_urls[data] == \"false\":\n",
    "                cv2.putText(img, \"[OK] LEGITIMATE\", (int(bbox[0][0][0]), int(bbox[0][0][1]) - 60), cv2.FONT_HERSHEY_DUPLEX,\n",
    "                        1, (0, 255, 0), 2)\n",
    "            if analyzed_urls[data] == \"true\":\n",
    "                cv2.putText(img, \"[!!] PHISING/MALWARE\", (int(bbox[0][0][0]), int(bbox[0][0][1]) - 60), cv2.FONT_HERSHEY_DUPLEX,\n",
    "                        1, (0, 0, 255), 2)              \n",
    "                        \n",
    "    # Display the image preview\n",
    "    cv2.imshow(\"code detector\", img)\n",
    "    \n",
    "    # Exit\n",
    "    if(cv2.waitKey(1) == ord(\"q\")):\n",
    "        print(\"[!] EXITTING...\")\n",
    "        break\n",
    "        \n",
    "\n",
    "# Free camera object and exit\n",
    "cap.release()\n",
    "cv2.destroyAllWindows()"
   ]
  }
 ],
 "metadata": {
  "kernelspec": {
   "display_name": "Python 3 (ipykernel)",
   "language": "python",
   "name": "python3"
  },
  "language_info": {
   "codemirror_mode": {
    "name": "ipython",
    "version": 3
   },
   "file_extension": ".py",
   "mimetype": "text/x-python",
   "name": "python",
   "nbconvert_exporter": "python",
   "pygments_lexer": "ipython3",
   "version": "3.9.2"
  }
 },
 "nbformat": 4,
 "nbformat_minor": 5
}
